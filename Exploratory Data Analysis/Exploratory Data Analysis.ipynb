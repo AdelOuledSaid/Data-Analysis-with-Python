{
 "cells": [
  {
   "cell_type": "markdown",
   "id": "e3016c27-9e81-4810-8611-afde4feefbfb",
   "metadata": {},
   "source": [
    "### Exploratory Data Analysis"
   ]
  },
  {
   "cell_type": "markdown",
   "id": "8a58bc14-4c8e-41fc-97da-1d75e02929b8",
   "metadata": {},
   "source": [
    "* Import Libraries "
   ]
  },
  {
   "cell_type": "code",
   "execution_count": null,
   "id": "e4a5541d-fa7d-4c6b-94fc-47b93e09dc34",
   "metadata": {},
   "outputs": [],
   "source": [
    "import pandas as ps \n",
    "import numpy as np \n",
    "import piplite\n",
    "await piplite.install('seaborn')"
   ]
  },
  {
   "cell_type": "code",
   "execution_count": null,
   "id": "1954682f-69f0-4b16-8cd8-504258be2251",
   "metadata": {},
   "outputs": [],
   "source": [
    "from pyodide.http import pyfetch \n",
    "async def download(url, filname):\n",
    "     response= await pyfetch(url)\n",
    "     if response.status==200:\n",
    "         with open(filename, \"wb\") as f:\n",
    "             f.write(await response.bytes())"
   ]
  },
  {
   "cell_type": "code",
   "execution_count": null,
   "id": "90969570-2510-4c16-b3e6-020ddb8613ad",
   "metadata": {},
   "outputs": [],
   "source": [
    "file_path= \"\""
   ]
  }
 ],
 "metadata": {
  "kernelspec": {
   "display_name": "Python 3 (ipykernel)",
   "language": "python",
   "name": "python3"
  },
  "language_info": {
   "codemirror_mode": {
    "name": "ipython",
    "version": 3
   },
   "file_extension": ".py",
   "mimetype": "text/x-python",
   "name": "python",
   "nbconvert_exporter": "python",
   "pygments_lexer": "ipython3",
   "version": "3.10.11"
  }
 },
 "nbformat": 4,
 "nbformat_minor": 5
}
